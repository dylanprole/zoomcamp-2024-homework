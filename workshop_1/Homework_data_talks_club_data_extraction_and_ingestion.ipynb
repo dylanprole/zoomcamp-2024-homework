{
  "nbformat": 4,
  "nbformat_minor": 0,
  "metadata": {
    "colab": {
      "provenance": []
    },
    "kernelspec": {
      "name": "python3",
      "display_name": "Python 3"
    },
    "language_info": {
      "name": "python"
    }
  },
  "cells": [
    {
      "cell_type": "markdown",
      "source": [
        "# **Homework**: Data talks club data engineering zoomcamp Data loading workshop\n",
        "\n",
        "Hello folks, let's practice what we learned - Loading data with the best practices of data engineering.\n",
        "\n",
        "Here are the exercises we will do\n",
        "\n",
        "\n"
      ],
      "metadata": {
        "id": "mrTFv5nPClXh"
      }
    },
    {
      "cell_type": "markdown",
      "source": [
        "# 1. Use a generator\n",
        "\n",
        "Remember the concept of generator? Let's practice using them to futher our understanding of how they work.\n",
        "\n",
        "Let's define a generator and then run it as practice.\n",
        "\n",
        "**Answer the following questions:**\n",
        "\n",
        "- **Question 1: What is the sum of the outputs of the generator for limit = 5?**\n",
        "- **Question 2: What is the 13th number yielded**\n",
        "\n",
        "I suggest practicing these questions without GPT as the purpose is to further your learning."
      ],
      "metadata": {
        "id": "wLF4iXf-NR7t"
      }
    },
    {
      "cell_type": "code",
      "source": [
        "def square_root_generator(limit):\n",
        "    n = 1\n",
        "    while n <= limit:\n",
        "        yield n ** 0.5\n",
        "        n += 1\n",
        "\n",
        "# Example usage:\n",
        "limit = 5\n",
        "generator = square_root_generator(limit)\n",
        "\n",
        "for sqrt_value in generator:\n",
        "    print(sqrt_value)\n"
      ],
      "metadata": {
        "colab": {
          "base_uri": "https://localhost:8080/"
        },
        "id": "wLng-bDJN4jf",
        "outputId": "ebb17a1a-14a1-44f8-a26f-8c0b69fc4543"
      },
      "execution_count": 23,
      "outputs": [
        {
          "output_type": "stream",
          "name": "stdout",
          "text": [
            "1.0\n",
            "1.4142135623730951\n",
            "1.7320508075688772\n",
            "2.0\n",
            "2.23606797749979\n"
          ]
        }
      ]
    },
    {
      "cell_type": "markdown",
      "source": [],
      "metadata": {
        "id": "xbe3q55zN43j"
      }
    },
    {
      "cell_type": "markdown",
      "source": [
        "# 2. Append a generator to a table with existing data\n",
        "\n",
        "\n",
        "Below you have 2 generators. You will be tasked to load them to duckdb and answer some questions from the data\n",
        "\n",
        "1. Load the first generator and calculate the sum of ages of all people. Make sure to only load it once.\n",
        "2. Append the second generator to the same table as the first.\n",
        "3. **After correctly appending the data, calculate the sum of all ages of people.**\n",
        "\n",
        "\n"
      ],
      "metadata": {
        "id": "vjWhILzGJMpK"
      }
    },
    {
      "cell_type": "code",
      "execution_count": 6,
      "metadata": {
        "colab": {
          "base_uri": "https://localhost:8080/"
        },
        "id": "2MoaQcdLBEk6",
        "outputId": "811cc863-1c41-4c82-97f5-4e72d5b635de"
      },
      "outputs": [
        {
          "output_type": "stream",
          "name": "stdout",
          "text": [
            "{'ID': 1, 'Name': 'Person_1', 'Age': 26, 'City': 'City_A'}\n",
            "{'ID': 2, 'Name': 'Person_2', 'Age': 27, 'City': 'City_A'}\n",
            "{'ID': 3, 'Name': 'Person_3', 'Age': 28, 'City': 'City_A'}\n",
            "{'ID': 4, 'Name': 'Person_4', 'Age': 29, 'City': 'City_A'}\n",
            "{'ID': 5, 'Name': 'Person_5', 'Age': 30, 'City': 'City_A'}\n",
            "{'ID': 3, 'Name': 'Person_3', 'Age': 33, 'City': 'City_B', 'Occupation': 'Job_3'}\n",
            "{'ID': 4, 'Name': 'Person_4', 'Age': 34, 'City': 'City_B', 'Occupation': 'Job_4'}\n",
            "{'ID': 5, 'Name': 'Person_5', 'Age': 35, 'City': 'City_B', 'Occupation': 'Job_5'}\n",
            "{'ID': 6, 'Name': 'Person_6', 'Age': 36, 'City': 'City_B', 'Occupation': 'Job_6'}\n",
            "{'ID': 7, 'Name': 'Person_7', 'Age': 37, 'City': 'City_B', 'Occupation': 'Job_7'}\n",
            "{'ID': 8, 'Name': 'Person_8', 'Age': 38, 'City': 'City_B', 'Occupation': 'Job_8'}\n"
          ]
        }
      ],
      "source": [
        "def people_1():\n",
        "    for i in range(1, 6):\n",
        "        yield {\"ID\": i, \"Name\": f\"Person_{i}\", \"Age\": 25 + i, \"City\": \"City_A\"}\n",
        "\n",
        "for person in people_1():\n",
        "    print(person)\n",
        "\n",
        "\n",
        "def people_2():\n",
        "    for i in range(3, 9):\n",
        "        yield {\"ID\": i, \"Name\": f\"Person_{i}\", \"Age\": 30 + i, \"City\": \"City_B\", \"Occupation\": f\"Job_{i}\"}\n",
        "\n",
        "\n",
        "for person in people_2():\n",
        "    print(person)\n"
      ]
    },
    {
      "cell_type": "markdown",
      "source": [],
      "metadata": {
        "id": "vtdTIm4fvQCN"
      }
    },
    {
      "cell_type": "markdown",
      "source": [
        "# 3. Merge a generator\n",
        "\n",
        "Re-use the generators from Exercise 2.\n",
        "\n",
        "A table's primary key needs to be created from the start, so load your data to a new table with primary key ID.\n",
        "\n",
        "Load your first generator first, and then load the second one with merge. Since they have overlapping IDs, some of the records from the first load should be replaced by the ones from the second load.\n",
        "\n",
        "After loading, you should have a total of 8 records, and ID 3 should have age 33.\n",
        "\n",
        "Question: **Calculate the sum of ages of all the people loaded as described above.**\n"
      ],
      "metadata": {
        "id": "pY4cFAWOSwN1"
      }
    },
    {
      "cell_type": "markdown",
      "source": [
        "# Solution: First make sure that the following modules are installed:"
      ],
      "metadata": {
        "id": "kKB2GTB9oVjr"
      }
    },
    {
      "cell_type": "code",
      "source": [
        "#Install the dependencies\n",
        "%%capture\n",
        "!pip install dlt[duckdb]"
      ],
      "metadata": {
        "id": "xTVvtyqrfVNq"
      },
      "execution_count": 7,
      "outputs": []
    },
    {
      "cell_type": "code",
      "source": [
        "# to do: homework :)"
      ],
      "metadata": {
        "id": "a2-PRBAkGC2K"
      },
      "execution_count": null,
      "outputs": []
    },
    {
      "cell_type": "markdown",
      "source": [
        "## Question 1: What is the sum of the outputs of the generator for limit = 5?"
      ],
      "metadata": {
        "id": "tGYJvliB3DRT"
      }
    },
    {
      "cell_type": "code",
      "source": [
        "def square_root_generator(limit):\n",
        "    n = 1\n",
        "    while n <= limit:\n",
        "        yield n ** 0.5\n",
        "        n += 1\n",
        "\n",
        "# Example usage:\n",
        "limit = 5\n",
        "generator = square_root_generator(limit)\n",
        "\n",
        "sum = 0\n",
        "for sqrt_value in generator:\n",
        "    sum += sqrt_value\n",
        "\n",
        "print('Sum of outputs for limit = 5: %.3f' % sum)\n"
      ],
      "metadata": {
        "id": "f9Pb3Rd73Kjz",
        "outputId": "747951f9-de00-4602-b501-ebd42a48e6c3",
        "colab": {
          "base_uri": "https://localhost:8080/"
        }
      },
      "execution_count": 14,
      "outputs": [
        {
          "output_type": "stream",
          "name": "stdout",
          "text": [
            "Sum of outputs for limit = 5: 8.382\n"
          ]
        }
      ]
    },
    {
      "cell_type": "markdown",
      "source": [
        "## Question 2: What is the 13th number yielded"
      ],
      "metadata": {
        "id": "LzL9OmI03XnN"
      }
    },
    {
      "cell_type": "code",
      "source": [
        "def square_root_generator(limit):\n",
        "    n = 1\n",
        "    while n <= limit:\n",
        "        yield n ** 0.5\n",
        "        n += 1\n",
        "\n",
        "# Example usage:\n",
        "limit = 13\n",
        "generator = square_root_generator(limit)\n",
        "\n",
        "for sqrt_value in generator:\n",
        "    latest_value = sqrt_value\n",
        "\n",
        "print('13th number yielded: %.3f' % latest_value)"
      ],
      "metadata": {
        "id": "JvFkvBz13c6s",
        "outputId": "5015b35d-0794-40fd-9f86-1a8957397627",
        "colab": {
          "base_uri": "https://localhost:8080/"
        }
      },
      "execution_count": 13,
      "outputs": [
        {
          "output_type": "stream",
          "name": "stdout",
          "text": [
            "13th number yielded: 3.606\n"
          ]
        }
      ]
    },
    {
      "cell_type": "markdown",
      "source": [
        "## Question 3. Append the 2 generators. After correctly appending the data, calculate the sum of all ages of people."
      ],
      "metadata": {
        "id": "05jiC2eQ4BU4"
      }
    },
    {
      "cell_type": "code",
      "source": [
        "import dlt\n",
        "import duckdb\n",
        "\n",
        "def people_1():\n",
        "    for i in range(1, 6):\n",
        "        yield {\"ID\": i,\n",
        "               \"Name\": f\"Person_{i}\",\n",
        "               \"Age\": 25 + i,\n",
        "               \"City\": \"City_A\"}\n",
        "\n",
        "def people_2():\n",
        "    for i in range(3, 9):\n",
        "        yield {\"ID\": i,\n",
        "               \"Name\": f\"Person_{i}\",\n",
        "               \"Age\": 30 + i,\n",
        "               \"City\": \"City_B\",\n",
        "               \"Occupation\": f\"Job_{i}\"}\n",
        "\n",
        "# Define connection to load data to\n",
        "pipeline = dlt.pipeline(pipeline_name=\"people_data\",\n",
        "\t\t\t\t\t\tdestination='duckdb',\n",
        "\t\t\t\t\t\tdataset_name='people')\n",
        "\n",
        "# Create or replace a table with people_1() in the duckdb database\n",
        "info_1 = pipeline.run(people_1(),\n",
        "                      table_name=\"info\",\n",
        "                      write_disposition=\"replace\")\n",
        "\n",
        "# Append people_2() to the existing table in the duckdb database\n",
        "info_2 = pipeline.run(people_2(),\n",
        "                      table_name=\"info\",\n",
        "                      write_disposition=\"append\",\n",
        "                      primary_key=\"id\")\n",
        "\n",
        "# Setup connection to database for querying\n",
        "con = duckdb.connect(\"people_data.duckdb\")\n",
        "\n",
        "# Preview the table\n",
        "con.sql(\"SELECT * FROM people.info\").show()\n",
        "\n",
        "# Calculate the sum of ages of all people\n",
        "con.sql(\"SELECT SUM(age) FROM people.info\").show()\n",
        "\n",
        "# Close connection\n",
        "con.close()"
      ],
      "metadata": {
        "id": "xF4QPATR4CyA",
        "outputId": "7a4212a5-139d-47cc-c9f9-e3ee97de3f29",
        "colab": {
          "base_uri": "https://localhost:8080/"
        }
      },
      "execution_count": 21,
      "outputs": [
        {
          "output_type": "stream",
          "name": "stdout",
          "text": [
            "┌───────┬──────────┬───────┬─────────┬────────────────────┬────────────────┬────────────┐\n",
            "│  id   │   name   │  age  │  city   │    _dlt_load_id    │    _dlt_id     │ occupation │\n",
            "│ int64 │ varchar  │ int64 │ varchar │      varchar       │    varchar     │  varchar   │\n",
            "├───────┼──────────┼───────┼─────────┼────────────────────┼────────────────┼────────────┤\n",
            "│     1 │ Person_1 │    26 │ City_A  │ 1707617926.1184857 │ mefFHgxjlN1zfQ │ NULL       │\n",
            "│     2 │ Person_2 │    27 │ City_A  │ 1707617926.1184857 │ WllkQXMGnflBWQ │ NULL       │\n",
            "│     3 │ Person_3 │    28 │ City_A  │ 1707617926.1184857 │ FJnEnFQuYIuwyg │ NULL       │\n",
            "│     4 │ Person_4 │    29 │ City_A  │ 1707617926.1184857 │ Y3UTdsjLae0NwA │ NULL       │\n",
            "│     5 │ Person_5 │    30 │ City_A  │ 1707617926.1184857 │ PJWcx4nWLQaQ4w │ NULL       │\n",
            "│     3 │ Person_3 │    33 │ City_B  │ 1707617926.882449  │ c3xb+Qu77eUHBQ │ Job_3      │\n",
            "│     4 │ Person_4 │    34 │ City_B  │ 1707617926.882449  │ k4cmiZ3D1kAjlQ │ Job_4      │\n",
            "│     5 │ Person_5 │    35 │ City_B  │ 1707617926.882449  │ K48XOycKniqA5g │ Job_5      │\n",
            "│     6 │ Person_6 │    36 │ City_B  │ 1707617926.882449  │ r/bWXTbZDfNHig │ Job_6      │\n",
            "│     7 │ Person_7 │    37 │ City_B  │ 1707617926.882449  │ 8kSV9xbMLE/KmQ │ Job_7      │\n",
            "│     8 │ Person_8 │    38 │ City_B  │ 1707617926.882449  │ wlxr2FK1athV1w │ Job_8      │\n",
            "├───────┴──────────┴───────┴─────────┴────────────────────┴────────────────┴────────────┤\n",
            "│ 11 rows                                                                     7 columns │\n",
            "└───────────────────────────────────────────────────────────────────────────────────────┘\n",
            "\n",
            "┌──────────┐\n",
            "│ sum(age) │\n",
            "│  int128  │\n",
            "├──────────┤\n",
            "│      353 │\n",
            "└──────────┘\n",
            "\n"
          ]
        }
      ]
    },
    {
      "cell_type": "markdown",
      "source": [
        "## Question 4. Merge the 2 generators using the ID column. Calculate the sum of ages of all the people loaded as described above."
      ],
      "metadata": {
        "id": "uCfwZW629DBt"
      }
    },
    {
      "cell_type": "code",
      "source": [
        "# Define connection to load data to\n",
        "pipeline_merge = dlt.pipeline(pipeline_name=\"people_data_merge\",\n",
        "                              destination='duckdb',\n",
        "                              dataset_name='people')\n",
        "\n",
        "# Create or replace a table with people_1() in the duckdb database\n",
        "info_merge_1 = pipeline_merge.run(people_1(),\n",
        "                                  table_name=\"info\",\n",
        "                                  write_disposition=\"replace\")\n",
        "\n",
        "# Merge people_2() to the existing table in the duckdb database\n",
        "info_merge_2 = pipeline_merge.run(people_2(),\n",
        "                                  table_name=\"info\",\n",
        "                                  write_disposition=\"merge\",\n",
        "                                  primary_key=\"id\")\n",
        "\n",
        "# Setup connection to database for querying\n",
        "con = duckdb.connect(\"people_data_merge.duckdb\")\n",
        "\n",
        "# Preview the table\n",
        "con.sql(\"SELECT * FROM people.info\").show()\n",
        "print()\n",
        "\n",
        "# Calculate the sum of ages of all people\n",
        "con.sql(\"SELECT SUM(age) FROM people.info\").show()\n",
        "\n",
        "# Close connection\n",
        "con.close()"
      ],
      "metadata": {
        "id": "len8AmsP9ESg",
        "outputId": "c6f93f55-edac-4467-eccf-609e7ee3f8f8",
        "colab": {
          "base_uri": "https://localhost:8080/"
        }
      },
      "execution_count": 22,
      "outputs": [
        {
          "output_type": "stream",
          "name": "stdout",
          "text": [
            "┌───────┬──────────┬───────┬─────────┬────────────────────┬────────────────┬────────────┐\n",
            "│  id   │   name   │  age  │  city   │    _dlt_load_id    │    _dlt_id     │ occupation │\n",
            "│ int64 │ varchar  │ int64 │ varchar │      varchar       │    varchar     │  varchar   │\n",
            "├───────┼──────────┼───────┼─────────┼────────────────────┼────────────────┼────────────┤\n",
            "│     1 │ Person_1 │    26 │ City_A  │ 1707618108.6456776 │ WnBb8Kwad4mcRA │ NULL       │\n",
            "│     2 │ Person_2 │    27 │ City_A  │ 1707618108.6456776 │ SPhSx/2n3l3Bbw │ NULL       │\n",
            "│     5 │ Person_5 │    35 │ City_B  │ 1707618109.6456246 │ JqxnzjOg76DL7Q │ Job_5      │\n",
            "│     7 │ Person_7 │    37 │ City_B  │ 1707618109.6456246 │ kFbSk4h3QqeDOg │ Job_7      │\n",
            "│     3 │ Person_3 │    33 │ City_B  │ 1707618109.6456246 │ NtYyz7yuXUWiEg │ Job_3      │\n",
            "│     6 │ Person_6 │    36 │ City_B  │ 1707618109.6456246 │ z9LbuxL/2yaiiw │ Job_6      │\n",
            "│     8 │ Person_8 │    38 │ City_B  │ 1707618109.6456246 │ eB5dHT6pOWnqxQ │ Job_8      │\n",
            "│     4 │ Person_4 │    34 │ City_B  │ 1707618109.6456246 │ EA4zgmksZclk0A │ Job_4      │\n",
            "└───────┴──────────┴───────┴─────────┴────────────────────┴────────────────┴────────────┘\n",
            "\n",
            "\n",
            "┌──────────┐\n",
            "│ sum(age) │\n",
            "│  int128  │\n",
            "├──────────┤\n",
            "│      266 │\n",
            "└──────────┘\n",
            "\n"
          ]
        }
      ]
    },
    {
      "cell_type": "markdown",
      "source": [
        "Questions? difficulties? We are here to help.\n",
        "- DTC data engineering course channel: https://datatalks-club.slack.com/archives/C01FABYF2RG\n",
        "- dlt's DTC cohort channel: https://dlthub-community.slack.com/archives/C06GAEX2VNX"
      ],
      "metadata": {
        "id": "PoTJu4kbGG0z"
      }
    }
  ]
}